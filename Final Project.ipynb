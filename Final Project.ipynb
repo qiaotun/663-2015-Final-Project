{
 "metadata": {
  "name": "",
  "signature": "sha256:be14da3e5a53690d0ffa2858c646be16a93a15db292654db5ef0144dfc2283d6"
 },
 "nbformat": 3,
 "nbformat_minor": 0,
 "worksheets": [
  {
   "cells": [
    {
     "cell_type": "heading",
     "level": 3,
     "metadata": {},
     "source": [
      "Paper Choice and Background Outline"
     ]
    },
    {
     "cell_type": "markdown",
     "metadata": {},
     "source": [
      "- In my project, I will implement the algorithm developed by Dennis D. Boos, Leonard A. Stefanski and Yujun Wu in their article \"Fast FSR Variable Selection with Applications to Clinical Trials\"."
     ]
    },
    {
     "cell_type": "markdown",
     "metadata": {},
     "source": [
      "- "
     ]
    }
   ],
   "metadata": {}
  }
 ]
}