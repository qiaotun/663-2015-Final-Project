{
 "metadata": {
  "name": "",
  "signature": "sha256:4b37e64f5d1f4d6fbba0a5f3ba8ce381c0be3d7132df25f48c5d773b50bc7034"
 },
 "nbformat": 3,
 "nbformat_minor": 0,
 "worksheets": [
  {
   "cells": [
    {
     "cell_type": "heading",
     "level": 3,
     "metadata": {},
     "source": [
      "Paper Choice and Background Outline"
     ]
    },
    {
     "cell_type": "markdown",
     "metadata": {},
     "source": [
      "- In my project, I will implement the algorithm developed by Dennis D. Boos, Leonard A. Stefanski and Yujun Wu in their article \"Fast FSR Variable Selection with Applications to Clinical Trials\"."
     ]
    },
    {
     "cell_type": "markdown",
     "metadata": {},
     "source": [
      "- Many variable selection procedures have been developed in the literature for linear regression models. This paper proposed an updated version of False Selection Rate (FSR) method to control variable selection without simulation. By adding a number of phony variables to the real set of data and monitoring the proportion of the phony variables falsely selected as a function of the tuning parameter, like \u03b1-to-enter of forward selection, FSR is able to estimate the appropriate tuning parameter and control the model false selection rate, selecting informative variables and preventing uninformative ones from being selected. Fast FSR in this paper allows us to estimate the tuning parameter from the summary table of the forward selection variable sequence. Therefore, to achieve the same result, no phony variable generation is required in the Fast FSR."
     ]
    },
    {
     "cell_type": "heading",
     "level": 3,
     "metadata": {},
     "source": [
      "Pseudocode"
     ]
    },
    {
     "cell_type": "markdown",
     "metadata": {},
     "source": [
      "- Step 1: Use forward selection to generate the sequence of variables and the associated p-values.\n",
      "\n",
      "- Step 2: Monotonize the p-value of the original sequence by carrying the larger p-value forward until a even larger p-value. Denote the monotonized p-value sequence with\n",
      "$$\n",
      "\\tilde{p_1}\\leq\\tilde{p_2}\\leq\\cdots\\leq\\tilde{p_k}\\\\\n",
      "$$\n",
      "\n",
      "- Step 3: For each variable $x_i$ in the selection sequence, calculate the associated\n",
      "\n",
      "$$\n",
      "\\hat{\\alpha_i} = \\frac{\\gamma(1+S_i)}{k-S_i}  \\\\\n",
      "$$\n",
      "\n",
      ", where $\\gamma$ is the pre-determined average selection rate of uninformative variables in the model. $S_i$ is the model size associated with the variables in the sequence. \n",
      "\n",
      "- Step 4: Compare $\\tilde{p_i}$ and $\\hat{\\alpha_i}$. Select the model of size $j$, where $j = max\\{i: \\tilde{p_i}\\leq\\hat{\\alpha_i}\\}$. Also, return the corresponding $\\hat{\\alpha_i}$."
     ]
    },
    {
     "cell_type": "heading",
     "level": 3,
     "metadata": {},
     "source": [
      "Draft of Unit Tests "
     ]
    },
    {
     "cell_type": "markdown",
     "metadata": {},
     "source": [
      "- Test the algorithm with data from Mangold, Bean, Adams (2003), Journal Of Higher Education, p. 540-562, \"The Impact of Intercollegiate Athletics on Graduation Rates Among Major NCAA Division I Universities.\" Compare my output with the result by Dennis D. Boos and Leonard A. Stefanski, which is saved in http://www4.stat.ncsu.edu/~boos/var.select/fsr.fast.ncaa.ex.txt"
     ]
    },
    {
     "cell_type": "code",
     "collapsed": false,
     "input": [],
     "language": "python",
     "metadata": {},
     "outputs": []
    }
   ],
   "metadata": {}
  }
 ]
}