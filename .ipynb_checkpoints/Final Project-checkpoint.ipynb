{
 "cells": [
  {
   "cell_type": "markdown",
   "metadata": {},
   "source": [
    "### Paper Choice and Background Outline"
   ]
  },
  {
   "cell_type": "markdown",
   "metadata": {},
   "source": [
    "- In my project, I will implement the algorithm developed by Dennis D. Boos, Leonard A. Stefanski and Yujun Wu in their article \"Fast FSR Variable Selection with Applications to Clinical Trials\"."
   ]
  },
  {
   "cell_type": "markdown",
   "metadata": {},
   "source": [
    "- Many variable selection procedures have been developed in the literature for linear regression models. This paper proposed an updated version of False Selection Rate (FSR) method to control variable selection without simulation. By adding a number of phony variables to the real set of data and monitoring the proportion of the phony variables falsely selected as a function of the tuning parameter, like α-to-enter of forward selection, FSR is able to estimate the appropriate tuning parameter and control the model false selection rate, selecting informative variables and preventing uninformative ones from being selected. Fast FSR in this paper allows us to estimate the tuning parameter from the summary table of the forward selection variable sequence. Therefore, to achieve the same result, no phony variable generation is required in the Fast FSR."
   ]
  },
  {
   "cell_type": "markdown",
   "metadata": {},
   "source": [
    "### Pseudocode"
   ]
  },
  {
   "cell_type": "markdown",
   "metadata": {},
   "source": [
    "- Step 1: Use forward selection to generate the sequence of variables and the associated p-values.\n",
    "\n",
    "- Step 2: Monotonize the p-value of the original sequence by carrying the larger p-value forward until a even larger p-value. Denote the monotonized p-value sequence with\n",
    "$$\n",
    "\\tilde{p_1}\\leq\\tilde{p_2}\\leq\\cdots\\leq\\tilde{p_k}\\\\\n",
    "$$\n",
    "\n",
    "- Step 3: For each variable $x_i$ in the selection sequence, calculate the associated\n",
    "\n",
    "$$\n",
    "\\hat{\\alpha_i} = \\frac{\\gamma(1+S_i)}{k-S_i}  \\\\\n",
    "$$\n",
    "\n",
    ", where $\\gamma$ is the pre-determined average selection rate of uninformative variables in the model. $S_i$ is the model size associated with the variables in the sequence. \n",
    "\n",
    "- Step 4: Compare $\\tilde{p_i}$ and $\\hat{\\alpha_i}$. Select the model of size $j$, where $j = max\\{i: \\tilde{p_i}\\leq\\hat{\\alpha_i}\\}$. Also, return the corresponding $\\hat{\\alpha_i}$."
   ]
  },
  {
   "cell_type": "markdown",
   "metadata": {},
   "source": [
    "### Draft of Unit Tests "
   ]
  },
  {
   "cell_type": "markdown",
   "metadata": {},
   "source": [
    "- Test the algorithm with data from Mangold, Bean, Adams (2003), Journal Of Higher Education, p. 540-562, \"The Impact of Intercollegiate Athletics on Graduation Rates Among Major NCAA Division I Universities.\" Compare my output with the result by Dennis D. Boos and Leonard A. Stefanski, which is saved in http://www4.stat.ncsu.edu/~boos/var.select/fsr.fast.ncaa.ex.txt"
   ]
  },
  {
   "cell_type": "markdown",
   "metadata": {},
   "source": [
    "### Install \"leaps\" Package"
   ]
  },
  {
   "cell_type": "code",
   "execution_count": 1,
   "metadata": {
    "collapsed": false
   },
   "outputs": [],
   "source": [
    "%load_ext rpy2.ipython\n",
    "from rpy2.robjects.packages import importr\n",
    "p1=importr('leaps')\n",
    "p2=importr('stats')"
   ]
  },
  {
   "cell_type": "markdown",
   "metadata": {},
   "source": [
    "### Initial Python Code"
   ]
  },
  {
   "cell_type": "code",
   "execution_count": 51,
   "metadata": {
    "collapsed": false
   },
   "outputs": [],
   "source": [
    "from __future__ import division\n",
    "import os\n",
    "import sys\n",
    "import glob\n",
    "import matplotlib.pyplot as plt\n",
    "import numpy as np\n",
    "import pandas as pd\n",
    "import scipy.stats as stats\n",
    "from sklearn import datasets, linear_model\n",
    "%matplotlib inline\n",
    "%precision 4\n",
    "plt.style.use('ggplot')"
   ]
  },
  {
   "cell_type": "code",
   "execution_count": 59,
   "metadata": {
    "collapsed": false
   },
   "outputs": [],
   "source": [
    "def fsr_fast(x,y,gam0=.05,digits=4):\n",
    "    \n",
    "    m = x.shape[1]\n",
    "    n = x.shape[0]\n",
    "    if(m >= n):\n",
    "        m1 = n-5  \n",
    "    else:\n",
    "        m1 = m    \n",
    "    \n",
    "    #as.matrix(x)->x                      # in case x is a data frame\n",
    "    \n",
    "    pvm = np.zeros(m1)                      # to create pvm below\n",
    "    \n",
    "    out_x = p1.regsubsets(x,y,method=\"forward\")\n",
    "    \n",
    "    rss = out_x[9]\n",
    "    nn = x.shape[0]\n",
    "    vorder = out_x[7]\n",
    "    \n",
    "    q = [(rss[i]-rss[i+1])*(nn-i-2)/rss[i+1] for i in range(len(rss)-1)]\n",
    "    orig = [1-stats.f.cdf(q[i],1,nn-i-2) for i in range(len(rss)-1)]\n",
    "    \n",
    "   \n",
    "    for i in range(0,m1):\n",
    "        pvm[i] = max(orig[0:i+1])  # sequential max of pvalues\n",
    "   \n",
    "    S = np.arange(1,m1+1)\n",
    "    alpha = gam0*(1+S)/(m1-S)\n",
    "   \n",
    "    \n",
    "    for i in range(0,m1):\n",
    "        if orig[i]>orig[i+1]:\n",
    "            i = i+1\n",
    "        elif pvm[i]<alpha[i] and pvm[i]<gam0:\n",
    "            i = i+1\n",
    "        else:\n",
    "            break\n",
    "        i = i-1\n",
    "        \n",
    "    svorder = np.array(vorder[0:i])-1\n",
    "    data_x = x.ix[:,svorder]\n",
    "    \n",
    "    regr = linear_model.LinearRegression()\n",
    "\n",
    "    # Train the model using the training sets\n",
    "    regr.fit(data_x, y)\n",
    "    \n",
    "    return regr.coef_, list(data_x.columns.values)\n",
    "   "
   ]
  },
  {
   "cell_type": "code",
   "execution_count": 53,
   "metadata": {
    "collapsed": false
   },
   "outputs": [
    {
     "data": {
      "text/html": [
       "<div style=\"max-height:1000px;max-width:1500px;overflow:auto;\">\n",
       "<table border=\"1\" class=\"dataframe\">\n",
       "  <thead>\n",
       "    <tr style=\"text-align: right;\">\n",
       "      <th></th>\n",
       "      <th>x1</th>\n",
       "      <th>x2</th>\n",
       "      <th>x3</th>\n",
       "      <th>x4</th>\n",
       "      <th>x5</th>\n",
       "      <th>x6</th>\n",
       "      <th>x7</th>\n",
       "      <th>x8</th>\n",
       "      <th>x9</th>\n",
       "      <th>x10</th>\n",
       "      <th>x11</th>\n",
       "      <th>x12</th>\n",
       "      <th>x13</th>\n",
       "      <th>x14</th>\n",
       "      <th>x15</th>\n",
       "      <th>x16</th>\n",
       "      <th>x17</th>\n",
       "      <th>x18</th>\n",
       "      <th>x19</th>\n",
       "      <th>y</th>\n",
       "    </tr>\n",
       "  </thead>\n",
       "  <tbody>\n",
       "    <tr>\n",
       "      <th>0</th>\n",
       "      <td> 13</td>\n",
       "      <td> 17</td>\n",
       "      <td>  9</td>\n",
       "      <td> 15</td>\n",
       "      <td> 28.0</td>\n",
       "      <td>  0</td>\n",
       "      <td>-1.14045</td>\n",
       "      <td> 3.660</td>\n",
       "      <td> 4.490</td>\n",
       "      <td>  3409</td>\n",
       "      <td> 65.8</td>\n",
       "      <td> 18</td>\n",
       "      <td> 81</td>\n",
       "      <td> 42.2</td>\n",
       "      <td> 660000</td>\n",
       "      <td> 77</td>\n",
       "      <td> 100</td>\n",
       "      <td> 59</td>\n",
       "      <td>  1</td>\n",
       "      <td> 35.0</td>\n",
       "    </tr>\n",
       "    <tr>\n",
       "      <th>1</th>\n",
       "      <td> 28</td>\n",
       "      <td> 20</td>\n",
       "      <td> 32</td>\n",
       "      <td> 18</td>\n",
       "      <td> 18.4</td>\n",
       "      <td> 18</td>\n",
       "      <td>-0.13719</td>\n",
       "      <td> 2.594</td>\n",
       "      <td> 3.610</td>\n",
       "      <td>  7258</td>\n",
       "      <td> 66.3</td>\n",
       "      <td> 17</td>\n",
       "      <td> 82</td>\n",
       "      <td> 40.5</td>\n",
       "      <td> 150555</td>\n",
       "      <td> 88</td>\n",
       "      <td>  94</td>\n",
       "      <td> 41</td>\n",
       "      <td> 25</td>\n",
       "      <td> 57.0</td>\n",
       "    </tr>\n",
       "    <tr>\n",
       "      <th>2</th>\n",
       "      <td> 32</td>\n",
       "      <td> 20</td>\n",
       "      <td> 20</td>\n",
       "      <td> 20</td>\n",
       "      <td> 34.8</td>\n",
       "      <td> 18</td>\n",
       "      <td> 1.55358</td>\n",
       "      <td> 2.060</td>\n",
       "      <td> 4.930</td>\n",
       "      <td>  6405</td>\n",
       "      <td> 75.0</td>\n",
       "      <td> 19</td>\n",
       "      <td> 71</td>\n",
       "      <td> 46.5</td>\n",
       "      <td> 415400</td>\n",
       "      <td> 94</td>\n",
       "      <td>  81</td>\n",
       "      <td> 25</td>\n",
       "      <td> 36</td>\n",
       "      <td> 51.3</td>\n",
       "    </tr>\n",
       "    <tr>\n",
       "      <th>3</th>\n",
       "      <td> 32</td>\n",
       "      <td> 21</td>\n",
       "      <td> 24</td>\n",
       "      <td> 21</td>\n",
       "      <td> 14.5</td>\n",
       "      <td> 20</td>\n",
       "      <td> 2.05712</td>\n",
       "      <td> 2.887</td>\n",
       "      <td> 3.876</td>\n",
       "      <td> 18294</td>\n",
       "      <td> 66.0</td>\n",
       "      <td> 16</td>\n",
       "      <td> 84</td>\n",
       "      <td> 42.2</td>\n",
       "      <td> 211000</td>\n",
       "      <td> 93</td>\n",
       "      <td>  88</td>\n",
       "      <td> 26</td>\n",
       "      <td> 13</td>\n",
       "      <td> 41.3</td>\n",
       "    </tr>\n",
       "    <tr>\n",
       "      <th>4</th>\n",
       "      <td> 24</td>\n",
       "      <td> 20</td>\n",
       "      <td> 16</td>\n",
       "      <td> 20</td>\n",
       "      <td> 21.8</td>\n",
       "      <td> 13</td>\n",
       "      <td>-0.77082</td>\n",
       "      <td> 2.565</td>\n",
       "      <td> 4.960</td>\n",
       "      <td>  8259</td>\n",
       "      <td> 63.5</td>\n",
       "      <td> 16</td>\n",
       "      <td> 91</td>\n",
       "      <td> 41.2</td>\n",
       "      <td>  44000</td>\n",
       "      <td> 90</td>\n",
       "      <td>  92</td>\n",
       "      <td> 32</td>\n",
       "      <td> 31</td>\n",
       "      <td> 65.7</td>\n",
       "    </tr>\n",
       "  </tbody>\n",
       "</table>\n",
       "</div>"
      ],
      "text/plain": [
       "   x1  x2  x3  x4    x5  x6       x7     x8     x9    x10   x11  x12  x13  \\\n",
       "0  13  17   9  15  28.0   0 -1.14045  3.660  4.490   3409  65.8   18   81   \n",
       "1  28  20  32  18  18.4  18 -0.13719  2.594  3.610   7258  66.3   17   82   \n",
       "2  32  20  20  20  34.8  18  1.55358  2.060  4.930   6405  75.0   19   71   \n",
       "3  32  21  24  21  14.5  20  2.05712  2.887  3.876  18294  66.0   16   84   \n",
       "4  24  20  16  20  21.8  13 -0.77082  2.565  4.960   8259  63.5   16   91   \n",
       "\n",
       "    x14     x15  x16  x17  x18  x19     y  \n",
       "0  42.2  660000   77  100   59    1  35.0  \n",
       "1  40.5  150555   88   94   41   25  57.0  \n",
       "2  46.5  415400   94   81   25   36  51.3  \n",
       "3  42.2  211000   93   88   26   13  41.3  \n",
       "4  41.2   44000   90   92   32   31  65.7  "
      ]
     },
     "execution_count": 53,
     "metadata": {},
     "output_type": "execute_result"
    }
   ],
   "source": [
    "import os   \n",
    "import pandas as pd\n",
    "if not os.path.exists('data.txt'):\n",
    "    ! wget http://www4.stat.ncsu.edu/~boos/var.select/ncaa.data2.txt -O data.txt\n",
    "data = pd.read_csv('data.txt',delim_whitespace = True).dropna()\n",
    "data.head()"
   ]
  },
  {
   "cell_type": "code",
   "execution_count": 61,
   "metadata": {
    "collapsed": false
   },
   "outputs": [
    {
     "name": "stdout",
     "output_type": "stream",
     "text": [
      "--2015-04-16 23:52:44--  http://www4.stat.ncsu.edu/~boos/var.select/actg.175.trt0.txt\n",
      "Resolving www4.stat.ncsu.edu (www4.stat.ncsu.edu)... 152.1.51.52\n",
      "Connecting to www4.stat.ncsu.edu (www4.stat.ncsu.edu)|152.1.51.52|:80... connected.\n",
      "HTTP request sent, awaiting response... 200 OK\n",
      "Length: 79417 (78K) [text/plain]\n",
      "Saving to: ‘ATCG.txt’\n",
      "\n",
      "100%[======================================>] 79,417      --.-K/s   in 0.1s    \n",
      "\n",
      "2015-04-16 23:52:44 (770 KB/s) - ‘ATCG.txt’ saved [79417/79417]\n",
      "\n"
     ]
    },
    {
     "data": {
      "text/html": [
       "<div style=\"max-height:1000px;max-width:1500px;overflow:auto;\">\n",
       "<table border=\"1\" class=\"dataframe\">\n",
       "  <thead>\n",
       "    <tr style=\"text-align: right;\">\n",
       "      <th></th>\n",
       "      <th>Obs</th>\n",
       "      <th>censor</th>\n",
       "      <th>event</th>\n",
       "      <th>age</th>\n",
       "      <th>wtkg</th>\n",
       "      <th>hemo</th>\n",
       "      <th>homo</th>\n",
       "      <th>drugs</th>\n",
       "      <th>karnof</th>\n",
       "      <th>oprior</th>\n",
       "      <th>...</th>\n",
       "      <th>gender</th>\n",
       "      <th>str2</th>\n",
       "      <th>strat</th>\n",
       "      <th>symptom</th>\n",
       "      <th>cd40</th>\n",
       "      <th>cd420</th>\n",
       "      <th>cd496</th>\n",
       "      <th>r</th>\n",
       "      <th>cd80</th>\n",
       "      <th>cd820</th>\n",
       "    </tr>\n",
       "  </thead>\n",
       "  <tbody>\n",
       "    <tr>\n",
       "      <th>0</th>\n",
       "      <td> 1</td>\n",
       "      <td> 0</td>\n",
       "      <td> 1090</td>\n",
       "      <td> 43</td>\n",
       "      <td> 66.679</td>\n",
       "      <td> 0</td>\n",
       "      <td> 1</td>\n",
       "      <td> 0</td>\n",
       "      <td> 100</td>\n",
       "      <td> 0</td>\n",
       "      <td>...</td>\n",
       "      <td> 1</td>\n",
       "      <td> 1</td>\n",
       "      <td> 3</td>\n",
       "      <td> 0</td>\n",
       "      <td> 504</td>\n",
       "      <td> 353</td>\n",
       "      <td> 660</td>\n",
       "      <td> 1</td>\n",
       "      <td>  870</td>\n",
       "      <td>  782</td>\n",
       "    </tr>\n",
       "    <tr>\n",
       "      <th>1</th>\n",
       "      <td> 2</td>\n",
       "      <td> 1</td>\n",
       "      <td>  794</td>\n",
       "      <td> 31</td>\n",
       "      <td> 73.030</td>\n",
       "      <td> 0</td>\n",
       "      <td> 1</td>\n",
       "      <td> 0</td>\n",
       "      <td> 100</td>\n",
       "      <td> 0</td>\n",
       "      <td>...</td>\n",
       "      <td> 1</td>\n",
       "      <td> 1</td>\n",
       "      <td> 3</td>\n",
       "      <td> 0</td>\n",
       "      <td> 244</td>\n",
       "      <td> 225</td>\n",
       "      <td> 106</td>\n",
       "      <td> 1</td>\n",
       "      <td>  708</td>\n",
       "      <td>  699</td>\n",
       "    </tr>\n",
       "    <tr>\n",
       "      <th>2</th>\n",
       "      <td> 3</td>\n",
       "      <td> 0</td>\n",
       "      <td>  957</td>\n",
       "      <td> 41</td>\n",
       "      <td> 66.226</td>\n",
       "      <td> 0</td>\n",
       "      <td> 1</td>\n",
       "      <td> 1</td>\n",
       "      <td> 100</td>\n",
       "      <td> 0</td>\n",
       "      <td>...</td>\n",
       "      <td> 1</td>\n",
       "      <td> 1</td>\n",
       "      <td> 3</td>\n",
       "      <td> 0</td>\n",
       "      <td> 401</td>\n",
       "      <td> 366</td>\n",
       "      <td> 453</td>\n",
       "      <td> 1</td>\n",
       "      <td>  889</td>\n",
       "      <td>  720</td>\n",
       "    </tr>\n",
       "    <tr>\n",
       "      <th>3</th>\n",
       "      <td> 4</td>\n",
       "      <td> 1</td>\n",
       "      <td>  188</td>\n",
       "      <td> 35</td>\n",
       "      <td> 78.019</td>\n",
       "      <td> 0</td>\n",
       "      <td> 1</td>\n",
       "      <td> 0</td>\n",
       "      <td> 100</td>\n",
       "      <td> 0</td>\n",
       "      <td>...</td>\n",
       "      <td> 1</td>\n",
       "      <td> 1</td>\n",
       "      <td> 3</td>\n",
       "      <td> 0</td>\n",
       "      <td> 221</td>\n",
       "      <td> 132</td>\n",
       "      <td>  -1</td>\n",
       "      <td> 0</td>\n",
       "      <td>  221</td>\n",
       "      <td>  759</td>\n",
       "    </tr>\n",
       "    <tr>\n",
       "      <th>4</th>\n",
       "      <td> 5</td>\n",
       "      <td> 1</td>\n",
       "      <td>  308</td>\n",
       "      <td> 40</td>\n",
       "      <td> 83.009</td>\n",
       "      <td> 0</td>\n",
       "      <td> 1</td>\n",
       "      <td> 0</td>\n",
       "      <td> 100</td>\n",
       "      <td> 0</td>\n",
       "      <td>...</td>\n",
       "      <td> 1</td>\n",
       "      <td> 1</td>\n",
       "      <td> 3</td>\n",
       "      <td> 1</td>\n",
       "      <td> 150</td>\n",
       "      <td>  90</td>\n",
       "      <td>  20</td>\n",
       "      <td> 1</td>\n",
       "      <td> 1730</td>\n",
       "      <td> 1160</td>\n",
       "    </tr>\n",
       "  </tbody>\n",
       "</table>\n",
       "<p>5 rows × 24 columns</p>\n",
       "</div>"
      ],
      "text/plain": [
       "   Obs  censor  event  age    wtkg  hemo  homo  drugs  karnof  oprior   ...    \\\n",
       "0    1       0   1090   43  66.679     0     1      0     100       0   ...     \n",
       "1    2       1    794   31  73.030     0     1      0     100       0   ...     \n",
       "2    3       0    957   41  66.226     0     1      1     100       0   ...     \n",
       "3    4       1    188   35  78.019     0     1      0     100       0   ...     \n",
       "4    5       1    308   40  83.009     0     1      0     100       0   ...     \n",
       "\n",
       "   gender  str2  strat  symptom  cd40  cd420  cd496  r  cd80  cd820  \n",
       "0       1     1      3        0   504    353    660  1   870    782  \n",
       "1       1     1      3        0   244    225    106  1   708    699  \n",
       "2       1     1      3        0   401    366    453  1   889    720  \n",
       "3       1     1      3        0   221    132     -1  0   221    759  \n",
       "4       1     1      3        1   150     90     20  1  1730   1160  \n",
       "\n",
       "[5 rows x 24 columns]"
      ]
     },
     "execution_count": 61,
     "metadata": {},
     "output_type": "execute_result"
    }
   ],
   "source": [
    "import os   \n",
    "import pandas as pd\n",
    "if not os.path.exists('ATCG.txt'):\n",
    "    ! wget http://www4.stat.ncsu.edu/~boos/var.select/actg.175.trt0.txt -O ATCG.txt\n",
    "data = pd.read_csv('ATCG.txt',delim_whitespace = True).dropna()\n",
    "data.head()"
   ]
  },
  {
   "cell_type": "code",
   "execution_count": 8,
   "metadata": {
    "collapsed": false
   },
   "outputs": [],
   "source": [
    "data_x = data.ix[:,:19]\n",
    "data_y = data.ix[:,19]"
   ]
  },
  {
   "cell_type": "code",
   "execution_count": 16,
   "metadata": {
    "collapsed": false
   },
   "outputs": [],
   "source": []
  },
  {
   "cell_type": "code",
   "execution_count": 17,
   "metadata": {
    "collapsed": false
   },
   "outputs": [],
   "source": [
    "q = [(rss[i]-rss[i+1])*(nn-i-2)/rss[i+1] for i in range(len(rss)-1)]\n",
    "orig = [1-stats.f.cdf(q[i],1,nn-i-2) for i in range(len(rss)-1)]\n"
   ]
  },
  {
   "cell_type": "code",
   "execution_count": 64,
   "metadata": {
    "collapsed": false
   },
   "outputs": [
    {
     "data": {
      "text/plain": [
       "0    1090\n",
       "1     794\n",
       "2     957\n",
       "3     188\n",
       "4     308\n",
       "Name: event, dtype: int64"
      ]
     },
     "execution_count": 64,
     "metadata": {},
     "output_type": "execute_result"
    }
   ],
   "source": [
    "data_y = data.ix[:,'event']"
   ]
  },
  {
   "cell_type": "code",
   "execution_count": 116,
   "metadata": {
    "collapsed": true
   },
   "outputs": [],
   "source": [
    "data_x = data.ix[:,np.array(['cd40','cd80','age','wtkg','karnof','hemo','homo','drugs','race','gender','str2','symptom'])]"
   ]
  },
  {
   "cell_type": "code",
   "execution_count": 117,
   "metadata": {
    "collapsed": false
   },
   "outputs": [],
   "source": [
    "data_x.ix[:,'cd40sq']=np.multiply(data_x.ix[:,'cd40'],data_x.ix[:,'cd40'])\n",
    "data_x.ix[:,'cd80sq']=np.multiply(data_x.ix[:,'cd80'],data_x.ix[:,'cd80'])\n",
    "data_x.ix[:,'agesq']=np.multiply(data_x.ix[:,'age'],data_x.ix[:,'age'])\n",
    "data_x.ix[:,'wtkgsq']=np.multiply(data_x.ix[:,'wtkg'],data_x.ix[:,'wtkg'])\n",
    "data_x.ix[:,'karnofsq']=np.multiply(data_x.ix[:,'karnof'],data_x.ix[:,'karnof'])"
   ]
  },
  {
   "cell_type": "code",
   "execution_count": 118,
   "metadata": {
    "collapsed": false
   },
   "outputs": [
    {
     "data": {
      "text/html": [
       "<div style=\"max-height:1000px;max-width:1500px;overflow:auto;\">\n",
       "<table border=\"1\" class=\"dataframe\">\n",
       "  <thead>\n",
       "    <tr style=\"text-align: right;\">\n",
       "      <th></th>\n",
       "      <th>0</th>\n",
       "      <th>1</th>\n",
       "      <th>2</th>\n",
       "      <th>3</th>\n",
       "      <th>4</th>\n",
       "      <th>5</th>\n",
       "      <th>6</th>\n",
       "      <th>7</th>\n",
       "      <th>8</th>\n",
       "      <th>9</th>\n",
       "      <th>...</th>\n",
       "      <th>56</th>\n",
       "      <th>57</th>\n",
       "      <th>58</th>\n",
       "      <th>59</th>\n",
       "      <th>60</th>\n",
       "      <th>61</th>\n",
       "      <th>62</th>\n",
       "      <th>63</th>\n",
       "      <th>64</th>\n",
       "      <th>65</th>\n",
       "    </tr>\n",
       "  </thead>\n",
       "  <tbody>\n",
       "    <tr>\n",
       "      <th>0</th>\n",
       "      <td> 438480</td>\n",
       "      <td> 21672</td>\n",
       "      <td> 33606.216</td>\n",
       "      <td> 50400</td>\n",
       "      <td> 0</td>\n",
       "      <td> 504</td>\n",
       "      <td>   0</td>\n",
       "      <td> 0</td>\n",
       "      <td> 504</td>\n",
       "      <td> 504</td>\n",
       "      <td>...</td>\n",
       "      <td> 0</td>\n",
       "      <td> 0</td>\n",
       "      <td> 0</td>\n",
       "      <td> 0</td>\n",
       "      <td> 0</td>\n",
       "      <td> 0</td>\n",
       "      <td> 0</td>\n",
       "      <td> 1</td>\n",
       "      <td> 0</td>\n",
       "      <td> 0</td>\n",
       "    </tr>\n",
       "    <tr>\n",
       "      <th>1</th>\n",
       "      <td> 172752</td>\n",
       "      <td>  7564</td>\n",
       "      <td> 17819.320</td>\n",
       "      <td> 24400</td>\n",
       "      <td> 0</td>\n",
       "      <td> 244</td>\n",
       "      <td>   0</td>\n",
       "      <td> 0</td>\n",
       "      <td> 244</td>\n",
       "      <td> 244</td>\n",
       "      <td>...</td>\n",
       "      <td> 0</td>\n",
       "      <td> 0</td>\n",
       "      <td> 0</td>\n",
       "      <td> 0</td>\n",
       "      <td> 0</td>\n",
       "      <td> 0</td>\n",
       "      <td> 0</td>\n",
       "      <td> 1</td>\n",
       "      <td> 0</td>\n",
       "      <td> 0</td>\n",
       "    </tr>\n",
       "    <tr>\n",
       "      <th>2</th>\n",
       "      <td> 356489</td>\n",
       "      <td> 16441</td>\n",
       "      <td> 26556.626</td>\n",
       "      <td> 40100</td>\n",
       "      <td> 0</td>\n",
       "      <td> 401</td>\n",
       "      <td> 401</td>\n",
       "      <td> 0</td>\n",
       "      <td> 401</td>\n",
       "      <td> 401</td>\n",
       "      <td>...</td>\n",
       "      <td> 0</td>\n",
       "      <td> 1</td>\n",
       "      <td> 1</td>\n",
       "      <td> 0</td>\n",
       "      <td> 0</td>\n",
       "      <td> 0</td>\n",
       "      <td> 0</td>\n",
       "      <td> 1</td>\n",
       "      <td> 0</td>\n",
       "      <td> 0</td>\n",
       "    </tr>\n",
       "    <tr>\n",
       "      <th>3</th>\n",
       "      <td>  48841</td>\n",
       "      <td>  7735</td>\n",
       "      <td> 17242.199</td>\n",
       "      <td> 22100</td>\n",
       "      <td> 0</td>\n",
       "      <td> 221</td>\n",
       "      <td>   0</td>\n",
       "      <td> 0</td>\n",
       "      <td> 221</td>\n",
       "      <td> 221</td>\n",
       "      <td>...</td>\n",
       "      <td> 0</td>\n",
       "      <td> 0</td>\n",
       "      <td> 0</td>\n",
       "      <td> 0</td>\n",
       "      <td> 0</td>\n",
       "      <td> 0</td>\n",
       "      <td> 0</td>\n",
       "      <td> 1</td>\n",
       "      <td> 0</td>\n",
       "      <td> 0</td>\n",
       "    </tr>\n",
       "    <tr>\n",
       "      <th>4</th>\n",
       "      <td> 259500</td>\n",
       "      <td>  6000</td>\n",
       "      <td> 12451.350</td>\n",
       "      <td> 15000</td>\n",
       "      <td> 0</td>\n",
       "      <td> 150</td>\n",
       "      <td>   0</td>\n",
       "      <td> 0</td>\n",
       "      <td> 150</td>\n",
       "      <td> 150</td>\n",
       "      <td>...</td>\n",
       "      <td> 0</td>\n",
       "      <td> 0</td>\n",
       "      <td> 0</td>\n",
       "      <td> 0</td>\n",
       "      <td> 0</td>\n",
       "      <td> 0</td>\n",
       "      <td> 0</td>\n",
       "      <td> 1</td>\n",
       "      <td> 1</td>\n",
       "      <td> 1</td>\n",
       "    </tr>\n",
       "  </tbody>\n",
       "</table>\n",
       "<p>5 rows × 66 columns</p>\n",
       "</div>"
      ],
      "text/plain": [
       "       0      1          2      3   4    5    6   7    8    9  ...   56  57  \\\n",
       "0  438480  21672  33606.216  50400   0  504    0   0  504  504 ...    0   0   \n",
       "1  172752   7564  17819.320  24400   0  244    0   0  244  244 ...    0   0   \n",
       "2  356489  16441  26556.626  40100   0  401  401   0  401  401 ...    0   1   \n",
       "3   48841   7735  17242.199  22100   0  221    0   0  221  221 ...    0   0   \n",
       "4  259500   6000  12451.350  15000   0  150    0   0  150  150 ...    0   0   \n",
       "\n",
       "   58  59  60  61  62  63  64  65  \n",
       "0   0   0   0   0   0   1   0   0  \n",
       "1   0   0   0   0   0   1   0   0  \n",
       "2   1   0   0   0   0   1   0   0  \n",
       "3   0   0   0   0   0   1   0   0  \n",
       "4   0   0   0   0   0   1   1   1  \n",
       "\n",
       "[5 rows x 66 columns]"
      ]
     },
     "execution_count": 118,
     "metadata": {},
     "output_type": "execute_result"
    }
   ],
   "source": [
    "col = 0\n",
    "inter = np.zeros(shape=(data_x.shape[0],66))\n",
    "inter = pd.DataFrame(inter)\n",
    "for i in np.arange(12):\n",
    "    for j in np.arange((i+1),12):\n",
    "        inter.ix[:,col]=data_x.ix[:,i]*data_x.ix[:,j]\n",
    "        col = col + 1\n",
    "        \n",
    "inter.head()"
   ]
  },
  {
   "cell_type": "code",
   "execution_count": 119,
   "metadata": {
    "collapsed": false
   },
   "outputs": [],
   "source": [
    "data_x = data_x.join(inter)"
   ]
  },
  {
   "cell_type": "code",
   "execution_count": 122,
   "metadata": {
    "collapsed": false
   },
   "outputs": [
    {
     "name": "stdout",
     "output_type": "stream",
     "text": [
      "Reordering variables and trying again:\n"
     ]
    },
    {
     "data": {
      "text/plain": [
       "(array([ -9.8465e-05,   1.5578e-02]), [0, 1])"
      ]
     },
     "execution_count": 122,
     "metadata": {},
     "output_type": "execute_result"
    }
   ],
   "source": [
    "fsr_fast(data_x,data_y,gam0=.05,digits=4)"
   ]
  },
  {
   "cell_type": "code",
   "execution_count": null,
   "metadata": {
    "collapsed": true
   },
   "outputs": [],
   "source": []
  }
 ],
 "metadata": {
  "kernelspec": {
   "display_name": "Python 2",
   "language": "python",
   "name": "python2"
  },
  "language_info": {
   "codemirror_mode": {
    "name": "ipython",
    "version": 2
   },
   "file_extension": ".py",
   "mimetype": "text/x-python",
   "name": "python",
   "nbconvert_exporter": "python",
   "pygments_lexer": "ipython2",
   "version": "2.7.9"
  }
 },
 "nbformat": 4,
 "nbformat_minor": 0
}
