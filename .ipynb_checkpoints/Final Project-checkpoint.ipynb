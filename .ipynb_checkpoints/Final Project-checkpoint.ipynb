{
 "metadata": {
  "name": "",
  "signature": "sha256:b58a32f0b9c50c7838ee4f0968cc7f2e2a60abd857e5195295a4b8760b4e12f5"
 },
 "nbformat": 3,
 "nbformat_minor": 0,
 "worksheets": [
  {
   "cells": [
    {
     "cell_type": "heading",
     "level": 3,
     "metadata": {},
     "source": [
      "Paper Choice and Background Outline"
     ]
    },
    {
     "cell_type": "markdown",
     "metadata": {},
     "source": [
      "- In my project, I will implement the algorithm developed by Dennis D. Boos, Leonard A. Stefanski and Yujun Wu in their article \"Fast FSR Variable Selection with Applications to Clinical Trials\"."
     ]
    },
    {
     "cell_type": "markdown",
     "metadata": {},
     "source": [
      "- Many variable selection procedures have been developed in the literature for linear regression models. This paper proposed an updated version of False Selection Rate (FSR) method to control variable selection without simulation. By adding a number of phony variables to the real set of data and monitoring the proportion of the phony variables falsely selected as a function of the tuning parameter, like \u03b1-to-enter of forward selection, FSR is able to estimate the appropriate tuning parameter and control the model false selection rate, selecting informative variables and preventing uninformative ones from being selected. Fast FSR in this paper allows us to estimate the tuning parameter from the summary table of the forward selection variable sequence. Therefore, to achieve the same result, no phony variable generation is required in the Fast FSR."
     ]
    },
    {
     "cell_type": "heading",
     "level": 3,
     "metadata": {},
     "source": [
      "Pseudocode"
     ]
    },
    {
     "cell_type": "markdown",
     "metadata": {},
     "source": [
      "- Step 1: Use forward selection to generate the sequence of variables and the associated p-values.\n",
      "\n",
      "- Step 2: Monotonize the p-value of the original sequence by carrying the larger p-value forward until a even larger p-value. Denote the monotonized p-value sequence with\n",
      "$$\n",
      "\\tilde{p_1}\\leq\\tilde{p_2}\\leq\\cdots\\leq\\tilde{p_k}\\\\\n",
      "$$\n",
      "\n",
      "- Step 3: For each variable $x_i$ in the selection sequence, calculate the associated\n",
      "\n",
      "$$\n",
      "\\hat{\\alpha_i} = \\frac{\\gamma(1+S_i)}{k-S_i}  \\\\\n",
      "$$\n",
      "\n",
      ", where $\\gamma$ is the pre-determined average selection rate of uninformative variables in the model. $S_i$ is the model size associated with the variables in the sequence. \n",
      "\n",
      "- Step 4: Compare $\\tilde{p_i}$ and $\\hat{\\alpha_i}$. Select the model of size $j$, where $j = max\\{i: \\tilde{p_i}\\leq\\hat{\\alpha_i}\\}$. Also, return the corresponding $\\hat{\\alpha_i}$."
     ]
    },
    {
     "cell_type": "heading",
     "level": 3,
     "metadata": {},
     "source": [
      "Draft of Unit Tests "
     ]
    },
    {
     "cell_type": "markdown",
     "metadata": {},
     "source": [
      "- Test the algorithm with data from Mangold, Bean, Adams (2003), Journal Of Higher Education, p. 540-562, \"The Impact of Intercollegiate Athletics on Graduation Rates Among Major NCAA Division I Universities.\" Compare my output with the result by Dennis D. Boos and Leonard A. Stefanski, which is saved in http://www4.stat.ncsu.edu/~boos/var.select/fsr.fast.ncaa.ex.txt"
     ]
    },
    {
     "cell_type": "heading",
     "level": 3,
     "metadata": {},
     "source": [
      "Install \"leaps\" Package"
     ]
    },
    {
     "cell_type": "code",
     "collapsed": false,
     "input": [
      "%load_ext rpy2.ipython"
     ],
     "language": "python",
     "metadata": {},
     "outputs": [
      {
       "output_type": "stream",
       "stream": "stdout",
       "text": [
        "The rpy2.ipython extension is already loaded. To reload it, use:\n",
        "  %reload_ext rpy2.ipython\n"
       ]
      }
     ],
     "prompt_number": 7
    },
    {
     "cell_type": "code",
     "collapsed": false,
     "input": [
      "%R install.packages('leaps')"
     ],
     "language": "python",
     "metadata": {},
     "outputs": [
      {
       "name": "stdout",
       "output_type": "stream",
       "stream": "stdout",
       "text": [
        "Would you like to use a personal library instead?  (y/n) y\n"
       ]
      },
      {
       "name": "stdout",
       "output_type": "stream",
       "stream": "stdout",
       "text": [
        "Would you like to create a personal library\n",
        "~/R/x86_64-pc-linux-gnu-library/3.1\n",
        "to install packages into?  (y/n) y\n"
       ]
      },
      {
       "name": "stdout",
       "output_type": "stream",
       "stream": "stdout",
       "text": [
        "Selection: USA(MD)\n"
       ]
      },
      {
       "name": "stdout",
       "output_type": "stream",
       "stream": "stdout",
       "text": [
        "Selection: USA (MD)\n"
       ]
      },
      {
       "metadata": {},
       "output_type": "display_data",
       "text": [
        "Installing package into \u2018/usr/local/lib/R/site-library\u2019\n",
        "(as \u2018lib\u2019 is unspecified)\n",
        "Warning in install.packages(\"leaps\") :\n",
        "  'lib = \"/usr/local/lib/R/site-library\"' is not writable\n",
        "--- Please select a CRAN mirror for use in this session ---\n",
        "CRAN mirror \n",
        "\n",
        "  1: 0-Cloud                        2: Algeria                    \n",
        "  3: Argentina (La Plata)           4: Australia (Canberra)       \n",
        "  5: Australia (Melbourne)          6: Austria                    \n",
        "  7: Belgium                        8: Brazil (BA)                \n",
        "  9: Brazil (PR)                   10: Brazil (RJ)                \n",
        " 11: Brazil (SP 1)                 12: Brazil (SP 2)              \n",
        " 13: Canada (BC)                   14: Canada (NS)                \n",
        " 15: Canada (ON)                   16: Canada (QC 1)              \n",
        " 17: Canada (QC 2)                 18: Chile                      \n",
        " 19: China (Beijing 1)             20: China (Beijing 2)          \n",
        " 21: China (Beijing 3)             22: China (Hefei)              \n",
        " 23: China (Lanzhou)               24: China (Xiamen)             \n",
        " 25: Colombia (Bogota)             26: Colombia (Cali)            \n",
        " 27: Czech Republic                28: Denmark                    \n",
        " 29: Ecuador                       30: El Salvador                \n",
        " 31: Estonia                       32: France (Lyon 1)            \n",
        " 33: France (Lyon 2)               34: France (Montpellier)       \n",
        " 35: France (Paris 1)              36: France (Paris 2)           \n",
        " 37: France (Strasbourg)           38: Germany (Berlin)           \n",
        " 39: Germany (Goettingen)          40: Germany (Frankfurt)        \n",
        " 41: Germany (M\u00fcnster)             42: Greece                     \n",
        " 43: Hungary                       44: Iceland                    \n",
        " 45: India                         46: Indonesia (Jakarta)        \n",
        " 47: Indonesia (Jember)            48: Iran                       \n",
        " 49: Ireland                       50: Italy (Milano)             \n",
        " 51: Italy (Padua)                 52: Italy (Palermo)            \n",
        " 53: Japan (Tokyo)                 54: Japan (Tsukuba)            \n",
        " 55: Japan (Yamagata)              56: Korea (Seoul 1)            \n",
        " 57: Korea (Seoul 2)               58: Korea (Ulsan)              \n",
        " 59: Lebanon                       60: Mexico (Mexico City)       \n",
        " 61: Mexico (Texcoco)              62: Netherlands (Amsterdam)    \n",
        " 63: Netherlands (Utrecht)         64: New Zealand                \n",
        " 65: Norway                        66: Philippines                \n",
        " 67: Poland                        68: Portugal                   \n",
        " 69: Russia                        70: Singapore                  \n",
        " 71: Slovakia                      72: South Africa (Cape Town)   \n",
        " 73: South Africa (Johannesburg)   74: Spain (A Coru\u00f1a)           \n",
        " 75: Spain (Madrid)                76: Sweden                     \n",
        " 77: Switzerland                   78: Taiwan (Chungli)           \n",
        " 79: Taiwan (Taipei)               80: Thailand                   \n",
        " 81: Turkey                        82: UK (Bristol)               \n",
        " 83: UK (Cambridge)                84: UK (London)                \n",
        " 85: UK (London)                   86: UK (St Andrews)            \n",
        " 87: USA (CA 1)                    88: USA (CA 2)                 \n",
        " 89: USA (IA)                      90: USA (IN)                   \n",
        " 91: USA (KS)                      92: USA (MD)                   \n",
        " 93: USA (MI)                      94: USA (MO)                   \n",
        " 95: USA (OH)                      96: USA (OR)                   \n",
        " 97: USA (PA 1)                    98: USA (PA 2)                 \n",
        " 99: USA (TN)                     100: USA (TX 1)                 \n",
        "101: USA (WA 1)                   102: USA (WA 2)                 \n",
        "103: Venezuela                    104: Vietnam                    \n",
        "\n",
        "\n",
        "Enter an item from the menu, or 0 to exit\n",
        "trying URL 'http://watson.nci.nih.gov/cran_mirror/src/contrib/leaps_2.9.tar.gz'\n",
        "Content type 'application/octet-stream' length 26847 bytes (26 Kb)\n",
        "opened URL\n",
        "==================================================\n",
        "downloaded 26 Kb\n",
        "\n",
        "\n",
        "The downloaded source packages are in\n",
        "\t\u2018/tmp/Rtmp8ietOV/downloaded_packages\u2019\n"
       ]
      }
     ],
     "prompt_number": 12
    },
    {
     "cell_type": "code",
     "collapsed": false,
     "input": [
      "%R library(leaps)"
     ],
     "language": "python",
     "metadata": {},
     "outputs": [
      {
       "metadata": {},
       "output_type": "pyout",
       "prompt_number": 15,
       "text": [
        "<StrVector - Python:0x7fd046236170 / R:0x4f4dd60>\n",
        "[str, str, str, ..., str, str, str]"
       ]
      }
     ],
     "prompt_number": 15
    },
    {
     "cell_type": "heading",
     "level": 3,
     "metadata": {},
     "source": [
      "Initial Python Code"
     ]
    },
    {
     "cell_type": "code",
     "collapsed": false,
     "input": [
      "from __future__ import division\n",
      "import os\n",
      "import sys\n",
      "import glob\n",
      "import matplotlib.pyplot as plt\n",
      "import numpy as np\n",
      "import pandas as pd\n",
      "%matplotlib inline\n",
      "%precision 4\n",
      "plt.style.use('ggplot')"
     ],
     "language": "python",
     "metadata": {},
     "outputs": [],
     "prompt_number": 16
    },
    {
     "cell_type": "code",
     "collapsed": false,
     "input": [
      "def fsr.fast(data,gam0=.05,digits=4,print=T,plot=T):\n",
      "\n",
      "\n",
      "    ok = complete.cases(x,y)  \n",
      "    x<-x[ok,]                            # get rid of na's\n",
      "    y<-y[ok]                             # since regsubsets can't handle na's\n",
      "    m<-ncol(x)\n",
      "    n<-nrow(x)\n",
      "if(m >= n) m1 <- n-5  else m1<-m     # to get rid of NA's in pv\n",
      "vm<-1:m1\n",
      "as.matrix(x)->x                      # in case x is a data frame\n",
      "if(any(colnames(x)==\"\"))colnames(x)<-NULL       # if only partially named columns\n",
      "colnames(x)<-colnames(x,do.NULL=F,prefix=\"\")    # corrects for no colnames\n",
      "pvm<-rep(0,m1)                       # to create pvm below\n",
      "regsubsets(x,y,method=\"forward\")->out.x\n",
      "pv.orig<-1-pf((out.x$rss[vm]-out.x$rss[vm+1])*(out.x$nn-(vm+1))/out.x$rss[vm+1],1,out.x$nn-(vm+1))\n",
      "for (i in 1:m1){pvm[i]<-max(pv.orig[1:i])}  # sequential max of pvalues\n",
      "alpha<-c(0,pvm)\n",
      "ng<-length(alpha)\n",
      "S<-rep(0,ng)                         # will contain num. of true entering in orig.\n",
      "real.seq<-data.frame(var=(out.x$vorder-1)[2:(m1+1)],pval=pv.orig,\n",
      "         pvmax=pvm,Rsq=round(1-out.x$rss[2:(m1+1)]/out.x$rss[1],4))\n",
      "for (ia in 2:ng){                    # loop through alpha values for S=size\n",
      "S[ia] <- sum(pvm<=alpha[ia])         # size of models at alpha[ia], S[1]=0\n",
      "}\n",
      "ghat<-(m-S)*alpha/(1+S)              # gammahat_ER\n",
      "# add additional points to make jumps\n",
      "alpha2<-alpha[2:ng]-.0000001\n",
      "ghat2<-(m-S[1:(ng-1)])*alpha2/(1+S[1:(ng-1)])\n",
      "zp<-data.frame(a=c(alpha,alpha2),g=c(ghat,ghat2))\n",
      "zp<-zp[order(zp$a),]\n",
      "gmax<-max(zp$g)\n",
      "index.max<-which.max(zp$g)           # index of largest ghat\n",
      "alphamax<-zp$a[index.max]            # alpha with largest ghat\n",
      "# gmax<-max(ghat)\n",
      "# index.max<-which.max(ghat)           # index of largest ghat\n",
      "# alphamax<-alpha[index.max]           # alpha with largest ghat\n",
      "ind<-(ghat <= gam0 & alpha<=alphamax)*1\n",
      "Sind<-S[max(which(ind > 0))]           # model size with ghat just below gam0\n",
      "alphahat.fast<-(1+Sind)*gam0/(m-Sind)  # ER est.\n",
      "size1<-sum(pvm<=alphahat.fast)+1       # size of model including intercept\n",
      "x<-x[,colnames(x)[(out.x$vorder-1)[2:size1]]]\n",
      "if(size1>1) x.ind<-(out.x$vorder-1)[2:size1]  else x.ind<-0\n",
      "if (size1==1) {mod <- lm(y~1)} else {mod <- lm(y~x)}\n",
      "# ghat3<-(m-size1+1)*alpha/(1+S)         # uses final ku est.\n",
      "ghat4<-(m-size1+1)*alpha/(1+0:m)\n",
      "res<-data.frame(real.seq,ghigh=ghat2,glow=ghat[2:ng])\n",
      "if(print)print(round(res,digits))\n",
      "if(plot){\n",
      "plot(zp$a,zp$g,type=\"b\",xlab=\"Alpha\",ylab=\"Estimated Gamma\",xlim=c(0,alphamax))\n",
      "points(alphahat.fast,gam0,pch=19)\n",
      "lines(c(-1,alphahat.fast),c(gam0,gam0))\n",
      "lines(c(alphahat.fast,alphahat.fast),c(-1,gam0))\n",
      "}  # ends plot\n",
      "return(list(mod=mod,size=size1-1,x.ind=x.ind,alphahat.ER=alphahat.fast))\n"
     ],
     "language": "python",
     "metadata": {},
     "outputs": []
    },
    {
     "cell_type": "code",
     "collapsed": false,
     "input": [],
     "language": "python",
     "metadata": {},
     "outputs": []
    },
    {
     "cell_type": "code",
     "collapsed": false,
     "input": [],
     "language": "python",
     "metadata": {},
     "outputs": [],
     "prompt_number": 26
    },
    {
     "cell_type": "code",
     "collapsed": false,
     "input": [
      "a"
     ],
     "language": "python",
     "metadata": {},
     "outputs": [
      {
       "metadata": {},
       "output_type": "pyout",
       "prompt_number": 27,
       "text": [
        "array([[2, 3, 4],\n",
        "       [3, 1, 2],\n",
        "       [1, 2, 3],\n",
        "       [2, 1, 1]])"
       ]
      }
     ],
     "prompt_number": 27
    },
    {
     "cell_type": "code",
     "collapsed": false,
     "input": [],
     "language": "python",
     "metadata": {},
     "outputs": []
    }
   ],
   "metadata": {}
  }
 ]
}