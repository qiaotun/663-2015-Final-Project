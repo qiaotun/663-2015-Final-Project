{
 "cells": [
  {
   "cell_type": "markdown",
   "metadata": {},
   "source": [
    "### Paper Choice and Background Outline"
   ]
  },
  {
   "cell_type": "markdown",
   "metadata": {},
   "source": [
    "- In my project, I will implement the algorithm developed by Dennis D. Boos, Leonard A. Stefanski and Yujun Wu in their article \"Fast FSR Variable Selection with Applications to Clinical Trials\"."
   ]
  },
  {
   "cell_type": "markdown",
   "metadata": {},
   "source": [
    "- Many variable selection procedures have been developed in the literature for linear regression models. This paper proposed an updated version of False Selection Rate (FSR) method to control variable selection without simulation. By adding a number of phony variables to the real set of data and monitoring the proportion of the phony variables falsely selected as a function of the tuning parameter, like α-to-enter of forward selection, FSR is able to estimate the appropriate tuning parameter and control the model false selection rate, selecting informative variables and preventing uninformative ones from being selected. Fast FSR in this paper allows us to estimate the tuning parameter from the summary table of the forward selection variable sequence. As a consequence, Fast FSR improve FSR algorithm by skipping the step of generating phony variables."
   ]
  },
  {
   "cell_type": "markdown",
   "metadata": {},
   "source": [
    "### Pseudocode"
   ]
  },
  {
   "cell_type": "markdown",
   "metadata": {},
   "source": [
    "- Step 1: Use forward selection to generate the sequence of variables and the associated p-values.\n",
    "\n",
    "- Step 2: Monotonize the p-value of the original sequence by carrying the larger p-value forward until a even larger p-value. Denote the monotonized p-value sequence with\n",
    "$$\n",
    "\\tilde{p_1}\\leq\\tilde{p_2}\\leq\\cdots\\leq\\tilde{p_k}\\\\\n",
    "$$\n",
    "\n",
    "- Step 3: For each variable $x_i$ in the selection sequence, calculate the associated\n",
    "\n",
    "$$\n",
    "\\hat{\\alpha_i} = \\frac{\\gamma(1+S_i)}{k-S_i}  \\\\\n",
    "$$\n",
    "\n",
    ", where $\\gamma$ is the pre-determined average selection rate of uninformative variables in the model. $S_i$ is the model size associated with the variables in the sequence. \n",
    "\n",
    "- Step 4: Compare $\\tilde{p_i}$ and $\\hat{\\alpha_i}$. Select the model of size $j$, where $j = max\\{i: \\tilde{p_i}\\leq\\hat{\\alpha_i}\\}$. Also, return the corresponding $\\hat{\\alpha_i}$."
   ]
  },
  {
   "cell_type": "markdown",
   "metadata": {},
   "source": [
    "### Unit Tests "
   ]
  },
  {
   "cell_type": "markdown",
   "metadata": {},
   "source": [
    "- Test the algorithm with data Mangold, Bean, Adams (2003), Journal Of Higher Education, p. 540-562, \"The Impact of Intercollegiate Athletics on Graduation Rates Among Major NCAA Division I Universities.\", which is saved in http://www4.stat.ncsu.edu/~boos/var.select/ncaa.data2.txt, and compare my output with the result by Dennis D. Boos and Leonard A. Stefanski."
   ]
  },
  {
   "cell_type": "markdown",
   "metadata": {},
   "source": [
    "### Install \"leaps\" Package"
   ]
  },
  {
   "cell_type": "code",
   "execution_count": 4,
   "metadata": {
    "collapsed": false
   },
   "outputs": [
    {
     "name": "stdout",
     "output_type": "stream",
     "text": [
      "The rpy2.ipython extension is already loaded. To reload it, use:\n",
      "  %reload_ext rpy2.ipython\n"
     ]
    }
   ],
   "source": [
    "%load_ext rpy2.ipython\n",
    "from rpy2.robjects.packages import importr\n",
    "p1=importr('leaps')\n",
    "p2=importr('stats')"
   ]
  },
  {
   "cell_type": "markdown",
   "metadata": {},
   "source": [
    "### FSR Algorithm Code"
   ]
  },
  {
   "cell_type": "code",
   "execution_count": 5,
   "metadata": {
    "collapsed": false
   },
   "outputs": [],
   "source": [
    "from __future__ import division\n",
    "import os\n",
    "import sys\n",
    "import glob\n",
    "import matplotlib.pyplot as plt\n",
    "import numpy as np\n",
    "import pandas as pd\n",
    "import scipy.stats as stats\n",
    "import statsmodels.api as sm\n",
    "import multiprocessing\n",
    "from functools import partial\n",
    "from sklearn.linear_model import Lasso\n",
    "from sklearn import datasets, linear_model\n",
    "%matplotlib inline\n",
    "%precision 4\n",
    "plt.style.use('ggplot')"
   ]
  },
  {
   "cell_type": "code",
   "execution_count": 6,
   "metadata": {
    "collapsed": false
   },
   "outputs": [],
   "source": [
    "def fsr_fast(x,y,gam0=.05,digits=4):\n",
    "    \n",
    "    m = x.shape[1]\n",
    "    n = x.shape[0]  \n",
    "    \n",
    "    pvm = np.zeros(m)                      \n",
    "    \n",
    "    # obtain the forward selection sequence\n",
    "    out_x = p1.regsubsets(x,y,method=\"forward\") \n",
    "    \n",
    "    rss = out_x[9]\n",
    "    nn = x.shape[0]\n",
    "    vorder = np.array(out_x[7])[1:]-1\n",
    " \n",
    "    q = [(rss[i]-rss[i+1])*(nn-i-2)/rss[i+1] for i in range(len(rss)-1)]\n",
    "   \n",
    "    # calculate the p-value of each variable entered\n",
    "    orig = [1-stats.f.cdf(q[i],1,nn-i-2) for i in range(len(rss)-1)] \n",
    "    \n",
    "    # monotonize the p-value of the original sequence \n",
    "    for i in range(0,m):\n",
    "        pvm[i] = max(orig[0:i+1])  \n",
    "   \n",
    "    # calculate the associate alpha\n",
    "    S = np.arange(1,m+1)\n",
    "    alpha = gam0*(1+S)/(m-S) \n",
    "    \n",
    "    # select the variables and determine the model size\n",
    "    for i in range(0,m):\n",
    "        if orig[i]>orig[i+1]:\n",
    "            i = i+1\n",
    "        elif pvm[i]<alpha[i] and pvm[i]<gam0:\n",
    "            i = i+1\n",
    "        else:\n",
    "            break\n",
    "        i = i-1\n",
    "        \n",
    "    svorder = np.array(vorder[0:i])-1\n",
    "    data_x = x.iloc[:,svorder]\n",
    "    data_x = sm.add_constant(data_x)\n",
    "   \n",
    "    regr = sm.OLS(y,data_x).fit()\n",
    "    \n",
    "    return regr, list(data_x.columns.values)"
   ]
  },
  {
   "cell_type": "markdown",
   "metadata": {},
   "source": [
    "###Test with Real Data"
   ]
  },
  {
   "cell_type": "code",
   "execution_count": 27,
   "metadata": {
    "collapsed": false
   },
   "outputs": [
    {
     "data": {
      "text/html": [
       "<div style=\"max-height:1000px;max-width:1500px;overflow:auto;\">\n",
       "<table border=\"1\" class=\"dataframe\">\n",
       "  <thead>\n",
       "    <tr style=\"text-align: right;\">\n",
       "      <th></th>\n",
       "      <th>x1</th>\n",
       "      <th>x2</th>\n",
       "      <th>x3</th>\n",
       "      <th>x4</th>\n",
       "      <th>x5</th>\n",
       "      <th>x6</th>\n",
       "      <th>x7</th>\n",
       "      <th>x8</th>\n",
       "      <th>x9</th>\n",
       "      <th>x10</th>\n",
       "      <th>x11</th>\n",
       "      <th>x12</th>\n",
       "      <th>x13</th>\n",
       "      <th>x14</th>\n",
       "      <th>x15</th>\n",
       "      <th>x16</th>\n",
       "      <th>x17</th>\n",
       "      <th>x18</th>\n",
       "      <th>x19</th>\n",
       "      <th>y</th>\n",
       "    </tr>\n",
       "  </thead>\n",
       "  <tbody>\n",
       "    <tr>\n",
       "      <th>0</th>\n",
       "      <td> 13</td>\n",
       "      <td> 17</td>\n",
       "      <td>  9</td>\n",
       "      <td> 15</td>\n",
       "      <td> 28.0</td>\n",
       "      <td>  0</td>\n",
       "      <td>-1.14045</td>\n",
       "      <td> 3.660</td>\n",
       "      <td> 4.490</td>\n",
       "      <td>  3409</td>\n",
       "      <td> 65.8</td>\n",
       "      <td> 18</td>\n",
       "      <td> 81</td>\n",
       "      <td> 42.2</td>\n",
       "      <td> 660000</td>\n",
       "      <td> 77</td>\n",
       "      <td> 100</td>\n",
       "      <td> 59</td>\n",
       "      <td>  1</td>\n",
       "      <td> 35.0</td>\n",
       "    </tr>\n",
       "    <tr>\n",
       "      <th>1</th>\n",
       "      <td> 28</td>\n",
       "      <td> 20</td>\n",
       "      <td> 32</td>\n",
       "      <td> 18</td>\n",
       "      <td> 18.4</td>\n",
       "      <td> 18</td>\n",
       "      <td>-0.13719</td>\n",
       "      <td> 2.594</td>\n",
       "      <td> 3.610</td>\n",
       "      <td>  7258</td>\n",
       "      <td> 66.3</td>\n",
       "      <td> 17</td>\n",
       "      <td> 82</td>\n",
       "      <td> 40.5</td>\n",
       "      <td> 150555</td>\n",
       "      <td> 88</td>\n",
       "      <td>  94</td>\n",
       "      <td> 41</td>\n",
       "      <td> 25</td>\n",
       "      <td> 57.0</td>\n",
       "    </tr>\n",
       "    <tr>\n",
       "      <th>2</th>\n",
       "      <td> 32</td>\n",
       "      <td> 20</td>\n",
       "      <td> 20</td>\n",
       "      <td> 20</td>\n",
       "      <td> 34.8</td>\n",
       "      <td> 18</td>\n",
       "      <td> 1.55358</td>\n",
       "      <td> 2.060</td>\n",
       "      <td> 4.930</td>\n",
       "      <td>  6405</td>\n",
       "      <td> 75.0</td>\n",
       "      <td> 19</td>\n",
       "      <td> 71</td>\n",
       "      <td> 46.5</td>\n",
       "      <td> 415400</td>\n",
       "      <td> 94</td>\n",
       "      <td>  81</td>\n",
       "      <td> 25</td>\n",
       "      <td> 36</td>\n",
       "      <td> 51.3</td>\n",
       "    </tr>\n",
       "    <tr>\n",
       "      <th>3</th>\n",
       "      <td> 32</td>\n",
       "      <td> 21</td>\n",
       "      <td> 24</td>\n",
       "      <td> 21</td>\n",
       "      <td> 14.5</td>\n",
       "      <td> 20</td>\n",
       "      <td> 2.05712</td>\n",
       "      <td> 2.887</td>\n",
       "      <td> 3.876</td>\n",
       "      <td> 18294</td>\n",
       "      <td> 66.0</td>\n",
       "      <td> 16</td>\n",
       "      <td> 84</td>\n",
       "      <td> 42.2</td>\n",
       "      <td> 211000</td>\n",
       "      <td> 93</td>\n",
       "      <td>  88</td>\n",
       "      <td> 26</td>\n",
       "      <td> 13</td>\n",
       "      <td> 41.3</td>\n",
       "    </tr>\n",
       "    <tr>\n",
       "      <th>4</th>\n",
       "      <td> 24</td>\n",
       "      <td> 20</td>\n",
       "      <td> 16</td>\n",
       "      <td> 20</td>\n",
       "      <td> 21.8</td>\n",
       "      <td> 13</td>\n",
       "      <td>-0.77082</td>\n",
       "      <td> 2.565</td>\n",
       "      <td> 4.960</td>\n",
       "      <td>  8259</td>\n",
       "      <td> 63.5</td>\n",
       "      <td> 16</td>\n",
       "      <td> 91</td>\n",
       "      <td> 41.2</td>\n",
       "      <td>  44000</td>\n",
       "      <td> 90</td>\n",
       "      <td>  92</td>\n",
       "      <td> 32</td>\n",
       "      <td> 31</td>\n",
       "      <td> 65.7</td>\n",
       "    </tr>\n",
       "  </tbody>\n",
       "</table>\n",
       "</div>"
      ],
      "text/plain": [
       "   x1  x2  x3  x4    x5  x6       x7     x8     x9    x10   x11  x12  x13  \\\n",
       "0  13  17   9  15  28.0   0 -1.14045  3.660  4.490   3409  65.8   18   81   \n",
       "1  28  20  32  18  18.4  18 -0.13719  2.594  3.610   7258  66.3   17   82   \n",
       "2  32  20  20  20  34.8  18  1.55358  2.060  4.930   6405  75.0   19   71   \n",
       "3  32  21  24  21  14.5  20  2.05712  2.887  3.876  18294  66.0   16   84   \n",
       "4  24  20  16  20  21.8  13 -0.77082  2.565  4.960   8259  63.5   16   91   \n",
       "\n",
       "    x14     x15  x16  x17  x18  x19     y  \n",
       "0  42.2  660000   77  100   59    1  35.0  \n",
       "1  40.5  150555   88   94   41   25  57.0  \n",
       "2  46.5  415400   94   81   25   36  51.3  \n",
       "3  42.2  211000   93   88   26   13  41.3  \n",
       "4  41.2   44000   90   92   32   31  65.7  "
      ]
     },
     "execution_count": 27,
     "metadata": {},
     "output_type": "execute_result"
    }
   ],
   "source": [
    "import os   \n",
    "import pandas as pd\n",
    "if not os.path.exists('NCAA.txt'):\n",
    "    ! wget http://www4.stat.ncsu.edu/~boos/var.select/ncaa.data2.txt -O NCAA.txt\n",
    "data = pd.read_csv('NCAA.txt',delim_whitespace = True).dropna()\n",
    "data.head()"
   ]
  },
  {
   "cell_type": "code",
   "execution_count": 28,
   "metadata": {
    "collapsed": false
   },
   "outputs": [],
   "source": [
    "data_x = data.ix[:,range(0,19)]\n",
    "data_y = data.ix[:,19]"
   ]
  },
  {
   "cell_type": "code",
   "execution_count": 30,
   "metadata": {
    "collapsed": false
   },
   "outputs": [
    {
     "data": {
      "text/html": [
       "<table class=\"simpletable\">\n",
       "<caption>OLS Regression Results</caption>\n",
       "<tr>\n",
       "  <th>Dep. Variable:</th>            <td>y</td>        <th>  R-squared:         </th> <td>   0.811</td>\n",
       "</tr>\n",
       "<tr>\n",
       "  <th>Model:</th>                   <td>OLS</td>       <th>  Adj. R-squared:    </th> <td>   0.800</td>\n",
       "</tr>\n",
       "<tr>\n",
       "  <th>Method:</th>             <td>Least Squares</td>  <th>  F-statistic:       </th> <td>   75.50</td>\n",
       "</tr>\n",
       "<tr>\n",
       "  <th>Date:</th>             <td>Thu, 30 Apr 2015</td> <th>  Prob (F-statistic):</th> <td>2.49e-30</td>\n",
       "</tr>\n",
       "<tr>\n",
       "  <th>Time:</th>                 <td>16:02:16</td>     <th>  Log-Likelihood:    </th> <td> -315.88</td>\n",
       "</tr>\n",
       "<tr>\n",
       "  <th>No. Observations:</th>      <td>    94</td>      <th>  AIC:               </th> <td>   643.8</td>\n",
       "</tr>\n",
       "<tr>\n",
       "  <th>Df Residuals:</th>          <td>    88</td>      <th>  BIC:               </th> <td>   659.0</td>\n",
       "</tr>\n",
       "<tr>\n",
       "  <th>Df Model:</th>              <td>     5</td>      <th>                     </th>     <td> </td>   \n",
       "</tr>\n",
       "</table>\n",
       "<table class=\"simpletable\">\n",
       "<tr>\n",
       "    <td></td>       <th>coef</th>     <th>std err</th>      <th>t</th>      <th>P>|t|</th> <th>[95.0% Conf. Int.]</th> \n",
       "</tr>\n",
       "<tr>\n",
       "  <th>const</th> <td>  -42.1069</td> <td>    8.990</td> <td>   -4.684</td> <td> 0.000</td> <td>  -59.972   -24.242</td>\n",
       "</tr>\n",
       "<tr>\n",
       "  <th>x2</th>    <td>    3.4714</td> <td>    0.467</td> <td>    7.428</td> <td> 0.000</td> <td>    2.543     4.400</td>\n",
       "</tr>\n",
       "<tr>\n",
       "  <th>x3</th>    <td>    0.2391</td> <td>    0.076</td> <td>    3.163</td> <td> 0.002</td> <td>    0.089     0.389</td>\n",
       "</tr>\n",
       "<tr>\n",
       "  <th>x5</th>    <td>    0.2787</td> <td>    0.078</td> <td>    3.582</td> <td> 0.001</td> <td>    0.124     0.433</td>\n",
       "</tr>\n",
       "<tr>\n",
       "  <th>x4</th>    <td>    0.6770</td> <td>    0.195</td> <td>    3.475</td> <td> 0.001</td> <td>    0.290     1.064</td>\n",
       "</tr>\n",
       "<tr>\n",
       "  <th>x7</th>    <td>   -2.5913</td> <td>    0.832</td> <td>   -3.115</td> <td> 0.002</td> <td>   -4.245    -0.938</td>\n",
       "</tr>\n",
       "</table>\n",
       "<table class=\"simpletable\">\n",
       "<tr>\n",
       "  <th>Omnibus:</th>       <td> 5.624</td> <th>  Durbin-Watson:     </th> <td>   1.718</td>\n",
       "</tr>\n",
       "<tr>\n",
       "  <th>Prob(Omnibus):</th> <td> 0.060</td> <th>  Jarque-Bera (JB):  </th> <td>   3.905</td>\n",
       "</tr>\n",
       "<tr>\n",
       "  <th>Skew:</th>          <td> 0.351</td> <th>  Prob(JB):          </th> <td>   0.142</td>\n",
       "</tr>\n",
       "<tr>\n",
       "  <th>Kurtosis:</th>      <td> 2.290</td> <th>  Cond. No.          </th> <td>    620.</td>\n",
       "</tr>\n",
       "</table>"
      ],
      "text/plain": [
       "<class 'statsmodels.iolib.summary.Summary'>\n",
       "\"\"\"\n",
       "                            OLS Regression Results                            \n",
       "==============================================================================\n",
       "Dep. Variable:                      y   R-squared:                       0.811\n",
       "Model:                            OLS   Adj. R-squared:                  0.800\n",
       "Method:                 Least Squares   F-statistic:                     75.50\n",
       "Date:                Thu, 30 Apr 2015   Prob (F-statistic):           2.49e-30\n",
       "Time:                        16:02:16   Log-Likelihood:                -315.88\n",
       "No. Observations:                  94   AIC:                             643.8\n",
       "Df Residuals:                      88   BIC:                             659.0\n",
       "Df Model:                           5                                         \n",
       "==============================================================================\n",
       "                 coef    std err          t      P>|t|      [95.0% Conf. Int.]\n",
       "------------------------------------------------------------------------------\n",
       "const        -42.1069      8.990     -4.684      0.000       -59.972   -24.242\n",
       "x2             3.4714      0.467      7.428      0.000         2.543     4.400\n",
       "x3             0.2391      0.076      3.163      0.002         0.089     0.389\n",
       "x5             0.2787      0.078      3.582      0.001         0.124     0.433\n",
       "x4             0.6770      0.195      3.475      0.001         0.290     1.064\n",
       "x7            -2.5913      0.832     -3.115      0.002        -4.245    -0.938\n",
       "==============================================================================\n",
       "Omnibus:                        5.624   Durbin-Watson:                   1.718\n",
       "Prob(Omnibus):                  0.060   Jarque-Bera (JB):                3.905\n",
       "Skew:                           0.351   Prob(JB):                        0.142\n",
       "Kurtosis:                       2.290   Cond. No.                         620.\n",
       "==============================================================================\n",
       "\"\"\""
      ]
     },
     "execution_count": 30,
     "metadata": {},
     "output_type": "execute_result"
    }
   ],
   "source": [
    "fsr_fast(data_x,data_y,gam0=.05,digits=4)[0].summary()"
   ]
  },
  {
   "cell_type": "markdown",
   "metadata": {},
   "source": [
    "It can be shown that my algorithm returns the same result as the one by Dennis D. Boos and Leonard A. Stefanski, which is saved in http://www4.stat.ncsu.edu/~boos/var.select/fsr.fast.ncaa.ex.txt"
   ]
  },
  {
   "cell_type": "markdown",
   "metadata": {},
   "source": [
    "### Method Comparision : Lasso and Fast FSR"
   ]
  },
  {
   "cell_type": "markdown",
   "metadata": {},
   "source": [
    "- In this section, we compare the performance of lasso and fast FSR in term of Average Model Error, Average False Selection Rate with the simulated data and running time with real data. \n",
    "- Model Error is defind as mean squared error:\n",
    "$$\n",
    "n^{-1}\\times\\sum_{i=1}^{n} (\\hat{f}(x_i)-y_i)^2\n",
    "$$\n",
    "- False Selection Rate is the proportion of uninformative variables selected in the model:\n",
    "$$\n",
    "\\frac{U(Y,X)}{1+I(Y,X)+U(Y,X)}\n",
    "$$\n",
    ",where $U(Y,X)$ and $I(Y,X)$ are the number of uninformative and informative variables in the model.\n",
    "- We simulated 150 data points with 42 variables. Four models are simulated: H1: all the coefficient of variables (beta) are zeros. H2: 6 nonzero betas at variables 6–8 and 13–15 with values (9,4,1). H3: 10 nonzero betas at variables 5–9 and 12–16 with values (25,16,9,4,1). H4: 14 nonzero betas at variables 4–10 and 11–17 with value (49, 36, 25, 16, 9, 4, 1)\n",
    "- Repeat the algorithm for 50 times, save each model error and false selection rate. \n",
    "- Plot the Average Model Error and Average False Selection of lasso and fast FSR for the four models\n"
   ]
  },
  {
   "cell_type": "code",
   "execution_count": 7,
   "metadata": {
    "collapsed": true
   },
   "outputs": [],
   "source": [
    "# all beta's are zero\n",
    "def model1():\n",
    "    y = np.random.normal(1, 1, 150)\n",
    "    x = pd.DataFrame(np.random.normal(1, 1, 21*150).reshape(150,21))\n",
    "    quad1 = x**2\n",
    "    x = pd.DataFrame(np.concatenate((x,quad1),axis=1))\n",
    "    true = []\n",
    "    return x, y, true"
   ]
  },
  {
   "cell_type": "code",
   "execution_count": 8,
   "metadata": {
    "collapsed": true
   },
   "outputs": [],
   "source": [
    "# 6 ,7 ,8, 13, 14, 15th beta are (9,4,1,9,4,1)\n",
    "def model2():\n",
    "    x = pd.DataFrame(np.random.normal(1, 1, 21*1500).reshape(1500,21))\n",
    "    y = 9*x.ix[:,5]+4*x.ix[:,6]+x.ix[:,7]+9*x.ix[:,12]+4*x.ix[:,13]+x.ix[:,14]\n",
    "\n",
    "    quad2 = x**2\n",
    "    x = pd.DataFrame(np.concatenate((x,quad2),axis=1))\n",
    "    true = np.array([6,7,8,13,14,15])-1\n",
    "    return x,y,true"
   ]
  },
  {
   "cell_type": "code",
   "execution_count": 9,
   "metadata": {
    "collapsed": true
   },
   "outputs": [],
   "source": [
    "# 5, 6 ,7 ,8, 9, 12, 13, 14, 15, 16th beta are (25,16,9,4,1,25,16,9,4,1)\n",
    "def model3():\n",
    "    x = pd.DataFrame(np.random.normal(1, 1, 21*1500).reshape(1500,21))\n",
    "    y = 25*x.ix[:,4]+16*x.ix[:,5]+9*x.ix[:,6]+4*x.ix[:,7]+1*x.ix[:,8]+25*x.ix[:,11]+16*x.ix[:,12]+9*x.ix[:,13]+4*x.ix[:,14]+1*x.ix[:,15]\n",
    "\n",
    "    quad2 = x**2\n",
    "    x = pd.DataFrame(np.concatenate((x,quad2),axis=1))\n",
    "    true = np.array([5,6,7,8,9,12,13,14,15,16])-1\n",
    "    return x,y,true"
   ]
  },
  {
   "cell_type": "code",
   "execution_count": 10,
   "metadata": {
    "collapsed": true
   },
   "outputs": [],
   "source": [
    "# 4-10th and 11-17th beta are (49,36,25,16,9,4,1,49,36,25,16,9,4,1)\n",
    "def model4():\n",
    "    x = pd.DataFrame(np.random.normal(1, 1, 21*1500).reshape(1500,21))\n",
    "    y = 49*x.ix[:,3]+36*x.ix[:,4]+25*x.ix[:,5]+16*x.ix[:,6]+9*x.ix[:,7]+4*x.ix[:,8]+x.ix[:,9]+49*x.ix[:,10]+36*x.ix[:,11]+25*x.ix[:,12]+16*x.ix[:,13]+9*x.ix[:,14]+4*x.ix[:,15]+x.ix[:,16]\n",
    "\n",
    "    quad2 = x**2\n",
    "    x = pd.DataFrame(np.concatenate((x,quad2),axis=1))\n",
    "    true = np.array([4,5,6,7,8,9,10,11,12,13,14,15,16,17])-1\n",
    "    return x,y,true"
   ]
  },
  {
   "cell_type": "code",
   "execution_count": 11,
   "metadata": {
    "collapsed": true
   },
   "outputs": [],
   "source": [
    "# Function to calculate Model Errors\n",
    "def ME(model,n):\n",
    "    LASSO_ME = []\n",
    "    FSR_ME =[]\n",
    "    for i in range(n):\n",
    "        data = model()\n",
    "        x = data[0]\n",
    "        y = data[1]\n",
    "        m = y.shape[0]\n",
    "        #LASSO\n",
    "        alpha = 0.05\n",
    "        lasso = Lasso(alpha=alpha, tol=0.001)\n",
    "        y_coef_lasso = lasso.fit(x, y).coef_\n",
    "        LASSO_me = np.sum((np.dot(x,y_coef_lasso)-np.array(y))**2)/m\n",
    "        LASSO_ME.append(LASSO_me)\n",
    "    \n",
    "        #FSR\n",
    "        FSR_coef = fsr_fast(x,y,gam0=.05,digits=4)[0].params\n",
    "        FSR_variable = fsr_fast(x,y,gam0=.05,digits=4)[1][1:]\n",
    "        variable = np.column_stack((np.ones((m, 1)),x.ix[:,FSR_variable]))\n",
    "        FSR_me = np.sum((np.dot(variable,FSR_coef)-np.array(y))**2)/m\n",
    "        FSR_ME.append(FSR_me)\n",
    "    \n",
    "    return LASSO_ME,FSR_ME"
   ]
  },
  {
   "cell_type": "code",
   "execution_count": 12,
   "metadata": {
    "collapsed": true
   },
   "outputs": [],
   "source": [
    "# Function to calculate the False Selection Rate  \n",
    "def FSR(model,n):\n",
    "    LASSO_FSR = []\n",
    "    FSR_FSR =[]\n",
    "    for i in range(n):\n",
    "        data = model()\n",
    "        true = data[2]\n",
    "        x = data[0]\n",
    "        y = data[1]\n",
    "    \n",
    "        #LASSO\n",
    "        alpha = 0.05\n",
    "        lasso = Lasso(alpha=alpha, tol=0.001)\n",
    "        y_coef_lasso = lasso.fit(x, y).coef_\n",
    "        lasso_index = np.where(y_coef_lasso != 0)[0]\n",
    "    \n",
    "        informative = set(true)&set(lasso_index)\n",
    "        LASSO_fsr = (len(lasso_index)-len(informative))/(1.0+len(lasso_index))\n",
    "        LASSO_FSR.append(LASSO_fsr)\n",
    "    \n",
    "        #FSR\n",
    "        FSR_index = fsr_fast(x,y,gam0=.05,digits=4)[1][1:]\n",
    "        informative = set(true)&set(FSR_index)\n",
    "        FSR_fsr = (len(FSR_index)-len(informative))/(1.0+len(FSR_index)) \n",
    "        FSR_FSR.append(FSR_fsr)\n",
    "    \n",
    "    return LASSO_FSR, FSR_FSR"
   ]
  },
  {
   "cell_type": "markdown",
   "metadata": {},
   "source": [
    "###  Test the algorithm with parallel pragramming"
   ]
  },
  {
   "cell_type": "code",
   "execution_count": 13,
   "metadata": {
    "collapsed": true
   },
   "outputs": [],
   "source": [
    "def pi_multiprocessing(method,model,n=50):\n",
    "    \"\"\"Split a job of length n into 2 pieces.\"\"\"\n",
    "    m = 2\n",
    "    pool = multiprocessing.Pool(m)\n",
    "    mapfunc = partial(method,model)\n",
    "    results = pool.map(mapfunc,[int(n/m)]*m)\n",
    "    pool.close()\n",
    "    return results"
   ]
  },
  {
   "cell_type": "code",
   "execution_count": 14,
   "metadata": {
    "collapsed": false
   },
   "outputs": [],
   "source": [
    "ME_1 = pi_multiprocessing(ME,model1)\n",
    "ME_2 = pi_multiprocessing(ME,model2)\n",
    "ME_3 = pi_multiprocessing(ME,model3)\n",
    "ME_4 = pi_multiprocessing(ME,model4)\n",
    "FSR_1 = pi_multiprocessing(FSR,model1)\n",
    "FSR_2 = pi_multiprocessing(FSR,model2)\n",
    "FSR_3 = pi_multiprocessing(FSR,model3)\n",
    "FSR_4 = pi_multiprocessing(FSR,model4)"
   ]
  },
  {
   "cell_type": "code",
   "execution_count": 15,
   "metadata": {
    "collapsed": false
   },
   "outputs": [],
   "source": [
    "LASSO_ME_1 = np.mean(ME_1[0][0]+ME_1[1][0])\n",
    "LASSO_ME_2 = np.mean(ME_2[0][0]+ME_2[1][0])\n",
    "LASSO_ME_3 = np.mean(ME_3[0][0]+ME_3[1][0])\n",
    "LASSO_ME_4 = np.mean(ME_4[0][0]+ME_4[1][0])\n",
    "FSR_ME_1 = np.mean(ME_1[0][1]+ME_1[1][1])\n",
    "FSR_ME_2 = np.mean(ME_2[0][1]+ME_2[1][1])\n",
    "FSR_ME_3 = np.mean(ME_3[0][1]+ME_3[1][1])\n",
    "FSR_ME_4 = np.mean(ME_4[0][1]+ME_4[1][1])\n",
    "\n",
    "LASSO_FSR_1 = np.mean(FSR_1[0][0]+FSR_1[1][0])\n",
    "LASSO_FSR_2 = np.mean(FSR_2[0][0]+FSR_2[1][0])\n",
    "LASSO_FSR_3 = np.mean(FSR_3[0][0]+FSR_3[1][0])\n",
    "LASSO_FSR_4 = np.mean(FSR_4[0][0]+FSR_4[1][0])\n",
    "FSR_FSR_1 = np.mean(FSR_1[0][1]+FSR_1[1][1])\n",
    "FSR_FSR_2 = np.mean(FSR_2[0][1]+FSR_2[1][1])\n",
    "FSR_FSR_3 = np.mean(FSR_3[0][1]+FSR_3[1][1])\n",
    "FSR_FSR_4 = np.mean(FSR_4[0][1]+FSR_4[1][1])\n"
   ]
  },
  {
   "cell_type": "code",
   "execution_count": 25,
   "metadata": {
    "collapsed": false
   },
   "outputs": [
    {
     "data": {
      "text/plain": [
       "<matplotlib.legend.Legend at 0x7ff6641c7ad0>"
      ]
     },
     "execution_count": 25,
     "metadata": {},
     "output_type": "execute_result"
    },
    {
     "data": {
      "image/png": "[encoded data removed]",
      "text/plain": [
       "<matplotlib.figure.Figure at 0x7ff6642d15d0>"
      ]
     },
     "metadata": {},
     "output_type": "display_data"
    }
   ],
   "source": [
    "LASSO_ME = np.array([LASSO_ME_1,LASSO_ME_2,LASSO_ME_3,LASSO_ME_4])\n",
    "FSR_ME = np.array([FSR_ME_1,FSR_ME_2,FSR_ME_3,FSR_ME_4])\n",
    "model_xticks = ['Model 1','Model 2','Model 3','Model 4']\n",
    "x = np.array([0,1,2,3])\n",
    "plt.xticks(x, model_xticks)\n",
    "plt.plot(LASSO_ME,label='LASSO')\n",
    "plt.plot(FSR_ME,label=\"Fast FSR\")\n",
    "plt.title('Model Error of Lasso and Fast FSR', fontsize=20)\n",
    "plt.legend(bbox_to_anchor=(1.05, 1), loc=2, borderaxespad=0.)"
   ]
  },
  {
   "cell_type": "code",
   "execution_count": 24,
   "metadata": {
    "collapsed": false
   },
   "outputs": [
    {
     "data": {
      "text/plain": [
       "<matplotlib.legend.Legend at 0x7ff66421a6d0>"
      ]
     },
     "execution_count": 24,
     "metadata": {},
     "output_type": "execute_result"
    },
    {
     "data": {
      "image/png": "[encoded data removed]",
      "text/plain": [
       "<matplotlib.figure.Figure at 0x7ff664395d50>"
      ]
     },
     "metadata": {},
     "output_type": "display_data"
    }
   ],
   "source": [
    "LASSO_FSR = np.array([LASSO_FSR_1,LASSO_FSR_2,LASSO_FSR_3,LASSO_FSR_4])\n",
    "FSR_FSR = np.array([FSR_FSR_1,FSR_FSR_2,FSR_FSR_3,FSR_FSR_4])\n",
    "model_xticks = ['Model 1','Model 2','Model 3','Model 4']\n",
    "x = np.array([0,1,2,3])\n",
    "plt.xticks(x, model_xticks)\n",
    "plt.plot(LASSO_FSR,label='LASSO')\n",
    "plt.plot(FSR_FSR,label='Fast FSR')\n",
    "plt.title('False Selection Rate of Lasso and Fast FSR', fontsize=15)\n",
    "plt.legend(bbox_to_anchor=(1.05, 1), loc=2, borderaxespad=0.)"
   ]
  },
  {
   "cell_type": "code",
   "execution_count": 33,
   "metadata": {
    "collapsed": false
   },
   "outputs": [
    {
     "name": "stdout",
     "output_type": "stream",
     "text": [
      "1 loops, best of 1: 13.5 ms per loop\n",
      "1 loops, best of 1: 749 µs per loop\n"
     ]
    }
   ],
   "source": [
    "%timeit -r1 -n1 fsr_fast(data_x,data_y,.05)\n",
    "%timeit -r1 -n1 lasso = Lasso(0.05, tol=0.001).fit(data_x, data_y).coef_"
   ]
  },
  {
   "cell_type": "markdown",
   "metadata": {},
   "source": [
    "From the above plots we can find that fast FSR is superior to LASSO in terms of false selection rate and model error. However, the built-in Lasso function costs less time. "
   ]
  },
  {
   "cell_type": "markdown",
   "metadata": {},
   "source": [
    "### Profiling the Functions and Optimizing the code"
   ]
  },
  {
   "cell_type": "code",
   "execution_count": 35,
   "metadata": {
    "collapsed": false
   },
   "outputs": [
    {
     "name": "stdout",
     "output_type": "stream",
     "text": [
      "Requirement already satisfied (use --upgrade to upgrade): line-profiler in /home/bitnami/anaconda/lib/python2.7/site-packages\r\n",
      "Cleaning up...\r\n"
     ]
    }
   ],
   "source": [
    "! pip install --pre line-profiler &> /dev/null\n",
    "! pip install psutil &> /dev/null\n",
    "! pip install memory_profiler &> /dev/null\n",
    "! pip install line_profiler"
   ]
  },
  {
   "cell_type": "code",
   "execution_count": 36,
   "metadata": {
    "collapsed": false
   },
   "outputs": [
    {
     "ename": "SyntaxError",
     "evalue": "invalid syntax (<ipython-input-36-0017d9443e56>, line 47)",
     "output_type": "error",
     "traceback": [
      "\u001b[1;36m  File \u001b[1;32m\"<ipython-input-36-0017d9443e56>\"\u001b[1;36m, line \u001b[1;32m47\u001b[0m\n\u001b[1;33m    kernprof.py -l -v fib.py\u001b[0m\n\u001b[1;37m                        ^\u001b[0m\n\u001b[1;31mSyntaxError\u001b[0m\u001b[1;31m:\u001b[0m invalid syntax\n"
     ]
    }
   ],
   "source": [
    "@profile\n",
    "def fsr_fast(x,y,gam0=.05,digits=4):\n",
    "    \n",
    "    m = x.shape[1]\n",
    "    n = x.shape[0]  \n",
    "    \n",
    "    pvm = np.zeros(m)                      \n",
    "    \n",
    "    # obtain the forward selection sequence\n",
    "    out_x = p1.regsubsets(x,y,method=\"forward\") \n",
    "    \n",
    "    rss = out_x[9]\n",
    "    nn = x.shape[0]\n",
    "    vorder = np.array(out_x[7])[1:]-1\n",
    " \n",
    "    q = [(rss[i]-rss[i+1])*(nn-i-2)/rss[i+1] for i in range(len(rss)-1)]\n",
    "   \n",
    "    # calculate the p-value of each variable entered\n",
    "    orig = [1-stats.f.cdf(q[i],1,nn-i-2) for i in range(len(rss)-1)] \n",
    "    \n",
    "    # monotonize the p-value of the original sequence \n",
    "    for i in range(0,m):\n",
    "        pvm[i] = max(orig[0:i+1])  \n",
    "   \n",
    "    # calculate the associate alpha\n",
    "    S = np.arange(1,m+1)\n",
    "    alpha = gam0*(1+S)/(m-S) \n",
    "    \n",
    "    # select the variables and determine the model size\n",
    "    for i in range(0,m):\n",
    "        if orig[i]>orig[i+1]:\n",
    "            i = i+1\n",
    "        elif pvm[i]<alpha[i] and pvm[i]<gam0:\n",
    "            i = i+1\n",
    "        else:\n",
    "            break\n",
    "        i = i-1\n",
    "        \n",
    "    svorder = np.array(vorder[0:i])-1\n",
    "    data_x = x.iloc[:,svorder]\n",
    "    data_x = sm.add_constant(data_x)\n",
    "   \n",
    "    regr = sm.OLS(y,data_x).fit()\n",
    "    \n",
    "    return regr, list(data_x.columns.values)\n",
    "fsr_fast(data_x,data_y,.05,4)\n",
    "kernprof.py -l -v fib.py"
   ]
  },
  {
   "cell_type": "code",
   "execution_count": 34,
   "metadata": {
    "collapsed": false
   },
   "outputs": [
    {
     "name": "stdout",
     "output_type": "stream",
     "text": [
      "          4700 function calls (4616 primitive calls) in 0.023 seconds\n",
      "\n",
      "   Ordered by: internal time\n",
      "   List reduced from 358 to 15 due to restriction <15>\n",
      "\n",
      "   ncalls  tottime  percall  cumtime  percall filename:lineno(function)\n",
      "       21    0.003    0.000    0.003    0.000 {method 'rcall' of 'rpy2.rinterface.SexpClosure' objects}\n",
      "       40    0.002    0.000    0.002    0.000 numpy2ri.py:42(numpy2ri)\n",
      "        1    0.002    0.002    0.011    0.011 functions.py:95(__call__)\n",
      "        1    0.001    0.001    0.001    0.001 _abcoll.py:545(update)\n",
      "       19    0.001    0.000    0.005    0.000 _distn_infrastructure.py:1610(cdf)\n",
      "  398/395    0.001    0.000    0.001    0.000 {numpy.core.multiarray.array}\n",
      "        1    0.001    0.001    0.023    0.023 <ipython-input-6-630cca1fee41>:1(fsr_fast)\n",
      "       19    0.001    0.000    0.002    0.000 _distn_infrastructure.py:547(argsreduce)\n",
      "       58    0.000    0.000    0.000    0.000 {method 'take' of 'numpy.ndarray' objects}\n",
      "       48    0.000    0.000    0.000    0.000 {method 'reduce' of 'numpy.ufunc' objects}\n",
      "       20    0.000    0.000    0.004    0.000 pandas2ri.py:49(py2ri_pandasseries)\n",
      "        1    0.000    0.000    0.002    0.002 indexing.py:1386(_getitem_axis)\n",
      "       19    0.000    0.000    0.000    0.000 _continuous_distns.py:1180(_cdf)\n",
      "        2    0.000    0.000    0.001    0.000 decomp_svd.py:15(svd)\n",
      "       24    0.000    0.000    0.000    0.000 vectors.py:230(__init__)\n",
      "\n",
      "\n"
     ]
    },
    {
     "data": {
      "text/plain": [
       "<pstats.Stats instance at 0x7ff66417e128>"
      ]
     },
     "execution_count": 34,
     "metadata": {},
     "output_type": "execute_result"
    }
   ],
   "source": [
    "stat = %prun -r -q fsr_fast(data_x,data_y,.05,4)\n",
    "stat.sort_stats('time').print_stats(15)"
   ]
  },
  {
   "cell_type": "code",
   "execution_count": null,
   "metadata": {
    "collapsed": true
   },
   "outputs": [],
   "source": [
    "stat.sort_stats('time').print_stats(r'ipython')"
   ]
  },
  {
   "cell_type": "code",
   "execution_count": 27,
   "metadata": {
    "collapsed": true
   },
   "outputs": [],
   "source": [
    "%load_ext memory_profiler"
   ]
  },
  {
   "cell_type": "code",
   "execution_count": 28,
   "metadata": {
    "collapsed": false
   },
   "outputs": [
    {
     "name": "stdout",
     "output_type": "stream",
     "text": [
      "peak memory: 127.20 MiB, increment: 0.76 MiB\n"
     ]
    }
   ],
   "source": [
    "%memit fsr_fast(data_x,data_y,.05,4)"
   ]
  }
 ],
 "metadata": {
  "kernelspec": {
   "display_name": "Python 2",
   "language": "python",
   "name": "python2"
  },
  "language_info": {
   "codemirror_mode": {
    "name": "ipython",
    "version": 2
   },
   "file_extension": ".py",
   "mimetype": "text/x-python",
   "name": "python",
   "nbconvert_exporter": "python",
   "pygments_lexer": "ipython2",
   "version": "2.7.9"
  }
 },
 "nbformat": 4,
 "nbformat_minor": 0
}
